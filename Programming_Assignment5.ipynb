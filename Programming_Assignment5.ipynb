{
 "cells": [
  {
   "cell_type": "code",
   "execution_count": null,
   "id": "59471870",
   "metadata": {},
   "outputs": [],
   "source": [
    "'''\n",
    "1.Write a Python Program to Find LCM?\n",
    "2.Write a Python Program to Find HCF?\n",
    "3.Write a Python Program to Convert Decimal to Binary, Octal and Hexadecimal?\n",
    "4.Write a Python Program To Find ASCII value of a character?\n",
    "5.Write a Python Program to Make a Simple Calculator with 4 basic mathematical operations?\n",
    "\n",
    "'''"
   ]
  },
  {
   "cell_type": "code",
   "execution_count": 1,
   "id": "f1b8fad5",
   "metadata": {},
   "outputs": [
    {
     "name": "stdout",
     "output_type": "stream",
     "text": [
      "12\n",
      "75\n",
      "72\n"
     ]
    }
   ],
   "source": [
    "#1.Write a Python Program to Find LCM?\n",
    "def find_lcm(x, y):\n",
    "    if x > y:\n",
    "        greater = x\n",
    "    else:\n",
    "        greater = y\n",
    "    while True:\n",
    "        if greater % x == 0 and greater % y == 0:\n",
    "            lcm = greater\n",
    "            break\n",
    "        greater += 1\n",
    "    return lcm\n",
    "\n",
    "# Test with different numbers\n",
    "print(find_lcm(4, 6))\n",
    "print(find_lcm(15, 25))\n",
    "print(find_lcm(24, 36))"
   ]
  },
  {
   "cell_type": "code",
   "execution_count": 2,
   "id": "b1b5d795",
   "metadata": {},
   "outputs": [
    {
     "name": "stdout",
     "output_type": "stream",
     "text": [
      "2\n",
      "5\n",
      "12\n"
     ]
    }
   ],
   "source": [
    "#2.Write a Python Program to Find HCF?\n",
    "def find_hcf(x, y):\n",
    "    if x > y:\n",
    "        smaller = y\n",
    "    else:\n",
    "        smaller = x\n",
    "    for i in range(1, smaller+1):\n",
    "        if x % i == 0 and y % i == 0:\n",
    "            hcf = i\n",
    "    return hcf\n",
    "\n",
    "# Test with different numbers\n",
    "print(find_hcf(4, 6))\n",
    "print(find_hcf(15, 25))\n",
    "print(find_hcf(24, 36))"
   ]
  },
  {
   "cell_type": "code",
   "execution_count": 3,
   "id": "fa3c4e00",
   "metadata": {},
   "outputs": [
    {
     "name": "stdout",
     "output_type": "stream",
     "text": [
      "Binary: 0b1010\n",
      "Octal: 0o12\n",
      "Hexadecimal: 0xa\n",
      "Binary: 0b1100100\n",
      "Octal: 0o144\n",
      "Hexadecimal: 0x64\n",
      "Binary: 0b11111111\n",
      "Octal: 0o377\n",
      "Hexadecimal: 0xff\n"
     ]
    }
   ],
   "source": [
    "#3.Write a Python Program to Convert Decimal to Binary, Octal and Hexadecimal?\n",
    "def convert_base(num):\n",
    "    # Convert to binary\n",
    "    binary = bin(num)\n",
    "    print(f\"Binary: {binary}\")\n",
    "\n",
    "    # Convert to octal\n",
    "    octal = oct(num)\n",
    "    print(f\"Octal: {octal}\")\n",
    "\n",
    "    # Convert to hexadecimal\n",
    "    hexadecimal = hex(num)\n",
    "    print(f\"Hexadecimal: {hexadecimal}\")\n",
    "\n",
    "# Test with different numbers\n",
    "convert_base(10)\n",
    "convert_base(100)\n",
    "convert_base(255)"
   ]
  },
  {
   "cell_type": "code",
   "execution_count": 4,
   "id": "a7d7f5d5",
   "metadata": {},
   "outputs": [
    {
     "name": "stdout",
     "output_type": "stream",
     "text": [
      "65\n",
      "66\n",
      "97\n",
      "48\n",
      "36\n"
     ]
    }
   ],
   "source": [
    "#4.Write a Python Program To Find ASCII value of a character?\n",
    "def find_ascii_value(char):\n",
    "    return ord(char)\n",
    "\n",
    "# Test with different characters\n",
    "print(find_ascii_value('A'))\n",
    "print(find_ascii_value('B'))\n",
    "print(find_ascii_value('a'))\n",
    "print(find_ascii_value('0'))\n",
    "print(find_ascii_value('$'))"
   ]
  },
  {
   "cell_type": "code",
   "execution_count": 5,
   "id": "ae568941",
   "metadata": {},
   "outputs": [
    {
     "name": "stdout",
     "output_type": "stream",
     "text": [
      "15\n",
      "5\n",
      "50\n",
      "2.0\n"
     ]
    }
   ],
   "source": [
    "#5.Write a Python Program to Make a Simple Calculator with 4 basic mathematical operations?\n",
    "def calculator(num1, num2, operator):\n",
    "    if operator == '+':\n",
    "        result = num1 + num2\n",
    "    elif operator == '-':\n",
    "        result = num1 - num2\n",
    "    elif operator == '*':\n",
    "        result = num1 * num2\n",
    "    elif operator == '/':\n",
    "        result = num1 / num2\n",
    "    return result\n",
    "\n",
    "# Test with different inputs\n",
    "print(calculator(10, 5, '+'))\n",
    "print(calculator(10, 5, '-'))\n",
    "print(calculator(10, 5, '*'))\n",
    "print(calculator(10, 5, '/'))"
   ]
  },
  {
   "cell_type": "code",
   "execution_count": null,
   "id": "ed09b854",
   "metadata": {},
   "outputs": [],
   "source": []
  }
 ],
 "metadata": {
  "kernelspec": {
   "display_name": "Python 3 (ipykernel)",
   "language": "python",
   "name": "python3"
  },
  "language_info": {
   "codemirror_mode": {
    "name": "ipython",
    "version": 3
   },
   "file_extension": ".py",
   "mimetype": "text/x-python",
   "name": "python",
   "nbconvert_exporter": "python",
   "pygments_lexer": "ipython3",
   "version": "3.9.7"
  }
 },
 "nbformat": 4,
 "nbformat_minor": 5
}
