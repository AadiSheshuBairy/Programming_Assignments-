{
 "cells": [
  {
   "cell_type": "code",
   "execution_count": null,
   "id": "445bc790",
   "metadata": {},
   "outputs": [],
   "source": [
    "'''\n",
    "1.Write a Python Program to Find the Factorial of a Number?\n",
    "2.Write a Python Program to Display the multiplication Table?\n",
    "3.Write a Python Program to Print the Fibonacci sequence?\n",
    "4.Write a Python Program to Check Armstrong Number?\n",
    "5.Write a Python Program to Find Armstrong Number in an Interval?\n",
    "6.Write a Python Program to Find the Sum of Natural Numbers?\n",
    "'''"
   ]
  },
  {
   "cell_type": "code",
   "execution_count": 1,
   "id": "2e5f7e33",
   "metadata": {},
   "outputs": [
    {
     "name": "stdout",
     "output_type": "stream",
     "text": [
      "120\n",
      "24\n",
      "6\n"
     ]
    }
   ],
   "source": [
    "#1.Write a Python Program to Find the Factorial of a Number?\n",
    "def find_factorial(num):\n",
    "    if num == 0:\n",
    "        return 1\n",
    "    else:\n",
    "        return num * find_factorial(num-1)\n",
    "\n",
    "# Test with different numbers\n",
    "print(find_factorial(5))\n",
    "print(find_factorial(4))\n",
    "print(find_factorial(3))"
   ]
  },
  {
   "cell_type": "code",
   "execution_count": 8,
   "id": "2d7ee579",
   "metadata": {},
   "outputs": [
    {
     "name": "stdout",
     "output_type": "stream",
     "text": [
      "5 x 1 = 5\n",
      "5 x 2 = 10\n",
      "5 x 3 = 15\n",
      "5 x 4 = 20\n",
      "5 x 5 = 25\n",
      "5 x 6 = 30\n",
      "5 x 7 = 35\n",
      "5 x 8 = 40\n",
      "5 x 9 = 45\n",
      "5 x 10 = 50\n",
      "7 x 1 = 7\n",
      "7 x 2 = 14\n",
      "7 x 3 = 21\n",
      "7 x 4 = 28\n",
      "7 x 5 = 35\n",
      "7 x 6 = 42\n",
      "7 x 7 = 49\n",
      "7 x 8 = 56\n",
      "7 x 9 = 63\n",
      "7 x 10 = 70\n",
      "10 x 1 = 10\n",
      "10 x 2 = 20\n",
      "10 x 3 = 30\n",
      "10 x 4 = 40\n",
      "10 x 5 = 50\n",
      "10 x 6 = 60\n",
      "10 x 7 = 70\n",
      "10 x 8 = 80\n",
      "10 x 9 = 90\n",
      "10 x 10 = 100\n"
     ]
    }
   ],
   "source": [
    "#2.Write a Python Program to Display the multiplication Table?\n",
    "def display_multiplication_table(num):\n",
    "    for i in range(1, 11):\n",
    "        print(f\"{num} x {i} = {num*i}\")\n",
    "\n",
    "# Test with different numbers\n",
    "display_multiplication_table(5)\n",
    "display_multiplication_table(7)\n",
    "display_multiplication_table(10)"
   ]
  },
  {
   "cell_type": "code",
   "execution_count": 12,
   "id": "82120ee8",
   "metadata": {},
   "outputs": [
    {
     "name": "stdout",
     "output_type": "stream",
     "text": [
      "0  1  1  2  3  0  1  1  2  3  5  8  13  21  34  0  1  1  2  3  5  8  13  21  34  55  89  144  233  377  "
     ]
    }
   ],
   "source": [
    "#3.Write a Python Program to Print the Fibonacci sequence?\n",
    "def print_fibonacci(n):\n",
    "    a, b = 0, 1\n",
    "    for i in range(n):\n",
    "        print(a,end = \"  \")\n",
    "        a, b = b, a+b\n",
    "\n",
    "# Test with different numbers of terms\n",
    "print_fibonacci(5)\n",
    "print_fibonacci(10)\n",
    "print_fibonacci(15)"
   ]
  },
  {
   "cell_type": "code",
   "execution_count": 13,
   "id": "58414c1d",
   "metadata": {},
   "outputs": [
    {
     "name": "stdout",
     "output_type": "stream",
     "text": [
      "Armstrong Number\n",
      "Armstrong Number\n",
      "Armstrong Number\n"
     ]
    }
   ],
   "source": [
    "#4.Write a Python Program to Check Armstrong Number?\n",
    "def check_armstrong(num):\n",
    "    sum = 0\n",
    "    temp = num\n",
    "    while temp > 0:\n",
    "        digit = temp % 10\n",
    "        sum += digit ** 3\n",
    "        temp //= 10\n",
    "    if num == sum:\n",
    "        print(\"Armstrong Number\")\n",
    "    else:\n",
    "        print(\"Not an Armstrong Number\")\n",
    "\n",
    "# Test with different numbers\n",
    "check_armstrong(153)\n",
    "check_armstrong(371)\n",
    "check_armstrong(407)"
   ]
  },
  {
   "cell_type": "code",
   "execution_count": 14,
   "id": "9340d7f5",
   "metadata": {},
   "outputs": [
    {
     "name": "stdout",
     "output_type": "stream",
     "text": [
      "153\n",
      "370\n",
      "371\n",
      "407\n"
     ]
    }
   ],
   "source": [
    "#5.Write a Python Program to Find Armstrong Number in an Interval?\n",
    "def find_armstrong_in_range(start, end):\n",
    "    for num in range(start, end+1):\n",
    "        sum = 0\n",
    "        temp = num\n",
    "        while temp > 0:\n",
    "            digit = temp % 10\n",
    "            sum += digit ** 3\n",
    "            temp //= 10\n",
    "        if num == sum:\n",
    "            print(num)\n",
    "\n",
    "# Find Armstrong numbers between 100 and 1000\n",
    "find_armstrong_in_range(100, 1000)"
   ]
  },
  {
   "cell_type": "code",
   "execution_count": 15,
   "id": "259e1f6b",
   "metadata": {},
   "outputs": [
    {
     "name": "stdout",
     "output_type": "stream",
     "text": [
      "15\n",
      "55\n",
      "120\n"
     ]
    }
   ],
   "source": [
    "#6.Write a Python Program to Find the Sum of Natural Numbers?\n",
    "def find_sum_of_naturals(n):\n",
    "    sum = 0\n",
    "    for i in range(1, n+1):\n",
    "        sum += i\n",
    "    return sum\n",
    "\n",
    "# Test with different numbers\n",
    "print(find_sum_of_naturals(5))\n",
    "print(find_sum_of_naturals(10))\n",
    "print(find_sum_of_naturals(15))"
   ]
  },
  {
   "cell_type": "code",
   "execution_count": null,
   "id": "51a25caf",
   "metadata": {},
   "outputs": [],
   "source": []
  }
 ],
 "metadata": {
  "kernelspec": {
   "display_name": "Python 3 (ipykernel)",
   "language": "python",
   "name": "python3"
  },
  "language_info": {
   "codemirror_mode": {
    "name": "ipython",
    "version": 3
   },
   "file_extension": ".py",
   "mimetype": "text/x-python",
   "name": "python",
   "nbconvert_exporter": "python",
   "pygments_lexer": "ipython3",
   "version": "3.9.7"
  }
 },
 "nbformat": 4,
 "nbformat_minor": 5
}
