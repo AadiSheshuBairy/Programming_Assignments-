{
 "cells": [
  {
   "cell_type": "markdown",
   "id": "b7af6e2d",
   "metadata": {},
   "source": [
    "1.Write a Python program to convert kilometers to miles?\n",
    "2.Write a Python program to convert Celsius to Fahrenheit?\n",
    "3.Write a Python program to display calendar?\n",
    "4.Write a Python program to solve quadratic equation?\n",
    "5.Write a Python program to swap two variables without temp variable?"
   ]
  },
  {
   "cell_type": "code",
   "execution_count": 1,
   "id": "d1b1f922",
   "metadata": {},
   "outputs": [
    {
     "name": "stdout",
     "output_type": "stream",
     "text": [
      "Enter Kilometres : 40\n",
      "40 kilometers is equal to 24.85484 miles.\n"
     ]
    }
   ],
   "source": [
    "#1.Write a Python program to convert kilometers to miles?\n",
    "\n",
    "def km_to_miles(kilometers):\n",
    "    return kilometers * 0.621371\n",
    "\n",
    "kilometers = int(input(\"Enter Kilometres : \"))\n",
    "miles = km_to_miles(kilometers)\n",
    "\n",
    "print(f\"{kilometers} kilometers is equal to {miles} miles.\")\n"
   ]
  },
  {
   "cell_type": "code",
   "execution_count": 2,
   "id": "4e8aee9c",
   "metadata": {},
   "outputs": [
    {
     "name": "stdout",
     "output_type": "stream",
     "text": [
      "Enter Celsius :100\n",
      "100°C is equal to 212.0°F.\n"
     ]
    }
   ],
   "source": [
    "#2.Write a Python program to convert Celsius to Fahrenheit?\n",
    "\n",
    "def celsius_to_fahrenheit(celsius):\n",
    "    return celsius * 9/5 + 32\n",
    "\n",
    "celsius = int(input(\"Enter Celsius :\"))\n",
    "fahrenheit = celsius_to_fahrenheit(celsius)\n",
    "\n",
    "print(f\"{celsius}°C is equal to {fahrenheit}°F.\")"
   ]
  },
  {
   "cell_type": "code",
   "execution_count": 3,
   "id": "96c5c359",
   "metadata": {},
   "outputs": [
    {
     "name": "stdout",
     "output_type": "stream",
     "text": [
      "Enter Year :2022\n",
      "Enter month :05\n",
      "      May 2022\n",
      "Mo Tu We Th Fr Sa Su\n",
      "                   1\n",
      " 2  3  4  5  6  7  8\n",
      " 9 10 11 12 13 14 15\n",
      "16 17 18 19 20 21 22\n",
      "23 24 25 26 27 28 29\n",
      "30 31\n",
      "None\n"
     ]
    }
   ],
   "source": [
    "#3.Write a Python program to display calendar?\n",
    "\n",
    "import calendar\n",
    "\n",
    "year = int(input(\"Enter Year :\"))\n",
    "month = int(input(\"Enter month :\"))\n",
    "\n",
    "print(calendar.prmonth(year, month))"
   ]
  },
  {
   "cell_type": "code",
   "execution_count": 4,
   "id": "d9cfc3c4",
   "metadata": {},
   "outputs": [
    {
     "name": "stdout",
     "output_type": "stream",
     "text": [
      "Enter a value for 'a' :5\n",
      "Enter a value for 'b' :4\n",
      "Enter a value for 'c' :9\n",
      "Roots: (-0.4+1.2806248474865698j) and (-0.4-1.2806248474865698j)\n"
     ]
    }
   ],
   "source": [
    "#4.Write a Python program to solve quadratic equation?\n",
    "\n",
    "import cmath\n",
    "\n",
    "def solve_quadratic(a, b, c):\n",
    "  # Calculate the discriminant\n",
    "    discriminant = b**2 - 4*a*c\n",
    "  # Calculate the two roots\n",
    "    root1 = (-b + cmath.sqrt(discriminant)) / (2*a)\n",
    "    root2 = (-b - cmath.sqrt(discriminant)) / (2*a)\n",
    "    return root1, root2\n",
    "\n",
    "a = int(input(\"Enter a value for 'a' :\"))\n",
    "b = int(input(\"Enter a value for 'b' :\"))\n",
    "c = int(input(\"Enter a value for 'c' :\"))\n",
    "roots = solve_quadratic(a, b, c)\n",
    "\n",
    "print(f\"Roots: {roots[0]} and {roots[1]}\")\n"
   ]
  },
  {
   "cell_type": "code",
   "execution_count": 5,
   "id": "19497ca1",
   "metadata": {},
   "outputs": [
    {
     "name": "stdout",
     "output_type": "stream",
     "text": [
      "Enter value of x :7\n",
      "Enter value of y :6\n",
      "x = 6\n",
      "y = 7\n"
     ]
    }
   ],
   "source": [
    "#5.Write a Python program to swap two variables without temp variable?\n",
    "\n",
    "x = int(input(\"Enter value of x :\"))\n",
    "y = int(input(\"Enter value of y :\"))\n",
    "\n",
    "# Swap the values of x and y\n",
    "x, y = y, x\n",
    "\n",
    "print(f\"x = {x}\")\n",
    "print(f\"y = {y}\")"
   ]
  },
  {
   "cell_type": "markdown",
   "id": "18ce960e",
   "metadata": {},
   "source": [
    "# ************  THANK YOU  ****************"
   ]
  },
  {
   "cell_type": "code",
   "execution_count": null,
   "id": "7fe35270",
   "metadata": {},
   "outputs": [],
   "source": []
  }
 ],
 "metadata": {
  "kernelspec": {
   "display_name": "Python 3 (ipykernel)",
   "language": "python",
   "name": "python3"
  },
  "language_info": {
   "codemirror_mode": {
    "name": "ipython",
    "version": 3
   },
   "file_extension": ".py",
   "mimetype": "text/x-python",
   "name": "python",
   "nbconvert_exporter": "python",
   "pygments_lexer": "ipython3",
   "version": "3.9.7"
  }
 },
 "nbformat": 4,
 "nbformat_minor": 5
}
